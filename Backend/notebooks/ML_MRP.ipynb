{
  "nbformat": 4,
  "nbformat_minor": 0,
  "metadata": {
    "colab": {
      "provenance": [],
      "gpuType": "T4"
    },
    "kernelspec": {
      "name": "python3",
      "display_name": "Python 3"
    },
    "language_info": {
      "name": "python"
    },
    "accelerator": "GPU"
  },
  "cells": [
    {
      "cell_type": "code",
      "execution_count": 1,
      "metadata": {
        "id": "X5UKE87_L8Pj"
      },
      "outputs": [],
      "source": [
        "import pandas as pd\n",
        "import numpy as np\n",
        "import joblib\n",
        "from datetime import datetime\n",
        "\n",
        "# For modeling\n",
        "from sklearn.model_selection import train_test_split\n",
        "from sklearn.metrics import classification_report\n",
        "from sklearn.ensemble import RandomForestClassifier\n"
      ]
    },
    {
      "cell_type": "code",
      "source": [
        "# Patients table: includes Id (unique), demographics, etc.\n",
        "patients = pd.read_csv(\"patients.csv\")\n",
        "\n",
        "print(\"Patients shape:\", patients.shape)\n",
        "print(patients.head())\n"
      ],
      "metadata": {
        "colab": {
          "base_uri": "https://localhost:8080/"
        },
        "id": "yMACWA04Mg5r",
        "outputId": "38ebd814-1a29-42ad-f567-ae36fc811eae"
      },
      "execution_count": 2,
      "outputs": [
        {
          "output_type": "stream",
          "name": "stdout",
          "text": [
            "Patients shape: (22818, 28)\n",
            "                                     Id   BIRTHDATE   DEATHDATE          SSN  \\\n",
            "0  3677432a-971b-7ef0-acbb-43ce84a150cc  2020-01-01         NaN  999-60-9177   \n",
            "1  3e635a70-e4f8-0dab-0cea-e241e603d1c6  2008-10-13         NaN  999-76-7313   \n",
            "2  146b2833-24a9-8087-70b2-f73790020184  1981-08-08  2010-12-22  999-67-8888   \n",
            "3  7b00b9f8-8b8c-1338-4219-7c291cb09495  1996-04-24         NaN  999-64-6927   \n",
            "4  bbb163df-264a-71aa-e4d8-091553d95dd1  1982-05-04         NaN  999-79-2179   \n",
            "\n",
            "     DRIVERS    PASSPORT PREFIX       FIRST       MIDDLE        LAST  ...  \\\n",
            "0        NaN         NaN    NaN   Carlos172  Gregorio366  Estévez304  ...   \n",
            "1  S99990286         NaN    NaN    Cathi439      Sana377      Fay398  ...   \n",
            "2  S99969795  X68345241X    Mr.  Nickolas58       Jed345    Adams676  ...   \n",
            "3  S99911456  X46352131X    Mr.    Felipe97          NaN    Muñoz828  ...   \n",
            "4  S99950614  X75923971X   Mrs.     Ping698   Natasha268   Jacobi462  ...   \n",
            "\n",
            "           CITY       STATE               COUNTY    FIPS    ZIP        LAT  \\\n",
            "0       Lynwood  California   Los Angeles County  6037.0  90059  33.972876   \n",
            "1   Willowbrook  California   Los Angeles County     NaN      0  33.934391   \n",
            "2      San Jose  California   Santa Clara County  6085.0  95111  37.398632   \n",
            "3  Walnut Creek  California  Contra Costa County  6013.0  94507  37.935541   \n",
            "4       Turlock  California    Stanislaus County  6099.0  95316  37.464862   \n",
            "\n",
            "          LON HEALTHCARE_EXPENSES HEALTHCARE_COVERAGE  INCOME  \n",
            "0 -118.257452            13940.44             1813.06  134859  \n",
            "1 -118.223723             3984.05           114371.18   44942  \n",
            "2 -122.004303            96528.12            46823.34   90252  \n",
            "3 -121.983340            96197.61           138231.00  135225  \n",
            "4 -120.824959           220068.96          1113177.79   45191  \n",
            "\n",
            "[5 rows x 28 columns]\n"
          ]
        }
      ]
    },
    {
      "cell_type": "code",
      "source": [
        "# Conditions table: includes patient diagnoses (CODE, DESCRIPTION, PATIENT)\n",
        "conditions = pd.read_csv(\"conditions.csv\")\n",
        "\n",
        "print(\"Conditions shape:\", conditions.shape)\n",
        "print(conditions.head())\n"
      ],
      "metadata": {
        "id": "YKz-MGDQRg-b",
        "colab": {
          "base_uri": "https://localhost:8080/"
        },
        "outputId": "8b7360b0-b38c-4342-e1c4-047db12af8ba"
      },
      "execution_count": 3,
      "outputs": [
        {
          "output_type": "stream",
          "name": "stdout",
          "text": [
            "Conditions shape: (872128, 7)\n",
            "        START        STOP                               PATIENT  \\\n",
            "0  2020-01-01  2020-02-05  3677432a-971b-7ef0-acbb-43ce84a150cc   \n",
            "1  2020-04-08  2020-06-10  3677432a-971b-7ef0-acbb-43ce84a150cc   \n",
            "2  2020-09-09  2020-12-09  3677432a-971b-7ef0-acbb-43ce84a150cc   \n",
            "3  2020-10-30  2020-11-10  3677432a-971b-7ef0-acbb-43ce84a150cc   \n",
            "4  2021-03-10  2021-03-10  3677432a-971b-7ef0-acbb-43ce84a150cc   \n",
            "\n",
            "                              ENCOUNTER     SYSTEM       CODE  \\\n",
            "0  f61d3b3c-812c-cd92-e0e8-a0d5822e2c3b  SNOMED-CT  314529007   \n",
            "1  d51fe3e7-1810-7c3f-db05-79de0ae075f8  SNOMED-CT  314529007   \n",
            "2  510c7ae6-0658-21fe-7fa8-d43b9e56d16d  SNOMED-CT  314529007   \n",
            "3  f56f3a8d-6440-b474-ba3e-47d073175dad  SNOMED-CT  195662009   \n",
            "4  dfb1b143-9219-8cc2-b46a-7bc95c7b7d8a  SNOMED-CT  314529007   \n",
            "\n",
            "                          DESCRIPTION  \n",
            "0   Medication review due (situation)  \n",
            "1   Medication review due (situation)  \n",
            "2   Medication review due (situation)  \n",
            "3  Acute viral pharyngitis (disorder)  \n",
            "4   Medication review due (situation)  \n"
          ]
        }
      ]
    },
    {
      "cell_type": "code",
      "source": [
        "from google.colab import drive\n",
        "drive.mount('/content/drive')\n"
      ],
      "metadata": {
        "colab": {
          "base_uri": "https://localhost:8080/"
        },
        "id": "xbfVoSMzMiUH",
        "outputId": "864af2ec-d077-4afa-9e3f-cc0eb33b1cd3"
      },
      "execution_count": 4,
      "outputs": [
        {
          "output_type": "stream",
          "name": "stdout",
          "text": [
            "Mounted at /content/drive\n"
          ]
        }
      ]
    },
    {
      "cell_type": "code",
      "source": [
        "observations_file = \"/content/drive/MyDrive/observations.csv\"\n"
      ],
      "metadata": {
        "id": "hG6J5HSlMmNN"
      },
      "execution_count": 5,
      "outputs": []
    },
    {
      "cell_type": "code",
      "source": [
        "import pandas as pd\n",
        "\n",
        "chunksize = 100_000\n",
        "obs_chunks = []\n",
        "\n",
        "for chunk in pd.read_csv(observations_file, chunksize=chunksize):\n",
        "    obs_chunks.append(chunk)\n",
        "\n",
        "observations = pd.concat(obs_chunks, ignore_index=True)\n",
        "\n",
        "print(\"Observations shape:\", observations.shape)\n",
        "print(observations.head())\n"
      ],
      "metadata": {
        "id": "b6gsXY2eMpUS",
        "colab": {
          "base_uri": "https://localhost:8080/"
        },
        "outputId": "ae0a0bd6-7da1-4bc2-9916-71e31f240fc8"
      },
      "execution_count": 6,
      "outputs": [
        {
          "output_type": "stream",
          "name": "stdout",
          "text": [
            "Observations shape: (19161370, 9)\n",
            "                   DATE                               PATIENT  \\\n",
            "0  2020-01-01T07:00:09Z  3677432a-971b-7ef0-acbb-43ce84a150cc   \n",
            "1  2020-01-01T07:00:09Z  3677432a-971b-7ef0-acbb-43ce84a150cc   \n",
            "2  2020-01-01T07:00:09Z  3677432a-971b-7ef0-acbb-43ce84a150cc   \n",
            "3  2020-01-01T07:00:09Z  3677432a-971b-7ef0-acbb-43ce84a150cc   \n",
            "4  2020-01-01T07:00:09Z  3677432a-971b-7ef0-acbb-43ce84a150cc   \n",
            "\n",
            "                              ENCOUNTER     CATEGORY     CODE  \\\n",
            "0  f61d3b3c-812c-cd92-e0e8-a0d5822e2c3b  vital-signs   8302-2   \n",
            "1  f61d3b3c-812c-cd92-e0e8-a0d5822e2c3b  vital-signs  72514-3   \n",
            "2  f61d3b3c-812c-cd92-e0e8-a0d5822e2c3b  vital-signs  29463-7   \n",
            "3  f61d3b3c-812c-cd92-e0e8-a0d5822e2c3b  vital-signs  77606-2   \n",
            "4  f61d3b3c-812c-cd92-e0e8-a0d5822e2c3b  vital-signs   8289-1   \n",
            "\n",
            "                                         DESCRIPTION VALUE    UNITS     TYPE  \n",
            "0                                        Body Height  51.0       cm  numeric  \n",
            "1  Pain severity - 0-10 verbal numeric rating [Sc...   2.0  {score}  numeric  \n",
            "2                                        Body Weight   3.7       kg  numeric  \n",
            "3                  Weight-for-length Per age and sex  48.0        %  numeric  \n",
            "4    Head Occipital-frontal circumference Percentile  27.3        %  numeric  \n"
          ]
        }
      ]
    },
    {
      "cell_type": "code",
      "source": [
        "# Step 1: define T2DM codes\n",
        "t2dm_codes = [\n",
        "    \"44054006\",    # T2DM\n",
        "]\n",
        "\n",
        "# Step 2: filter conditions for T2DM\n",
        "# t2dm_rows = conditions[conditions[\"CODE\"].isin(t2dm_codes)]\n",
        "# Step 2: filter with CODE as string\n",
        "t2dm_rows = conditions[conditions[\"CODE\"].astype(str).isin(t2dm_codes)]\n",
        "\n",
        "\n",
        "# Step 3: build a set of T2DM patient IDs\n",
        "t2dm_patient_ids = set(t2dm_rows[\"PATIENT\"])\n",
        "print(\"Total T2DM patients:\", len(t2dm_patient_ids))\n",
        "\n",
        "# Step 4: label each patient\n",
        "patients[\"diabetes_label\"] = patients[\"Id\"].apply(\n",
        "    lambda pid: 1 if pid in t2dm_patient_ids else 0\n",
        ")\n",
        "print(\"Label distribution:\\n\", patients[\"diabetes_label\"].value_counts())\n"
      ],
      "metadata": {
        "id": "ZiD2yXzNMnYs",
        "colab": {
          "base_uri": "https://localhost:8080/"
        },
        "outputId": "ed1e41b1-19eb-4ac8-e87d-fc7451ba2669"
      },
      "execution_count": 15,
      "outputs": [
        {
          "output_type": "stream",
          "name": "stdout",
          "text": [
            "Total T2DM patients: 1434\n",
            "Label distribution:\n",
            " diabetes_label\n",
            "0    21384\n",
            "1     1434\n",
            "Name: count, dtype: int64\n"
          ]
        }
      ]
    },
    {
      "cell_type": "code",
      "source": [
        "feature_map = {\n",
        "    \"Hemoglobin A1c/Hemoglobin.total in Blood\": \"hba1c\",\n",
        "    \"Glucose [Mass/volume] in Blood\": \"glucose\",\n",
        "    \"Body mass index (BMI) [Ratio]\": \"bmi\",\n",
        "    \"Body Weight\": \"weight\",\n",
        "    \"Body Height\": \"height\",\n",
        "    \"Systolic Blood Pressure\": \"systolic_bp\",\n",
        "    \"Diastolic Blood Pressure\": \"diastolic_bp\",\n",
        "    \"Cholesterol [Mass/volume] in Serum or Plasma\": \"cholesterol\",\n",
        "    \"Low Density Lipoprotein Cholesterol\": \"ldl\",\n",
        "    \"Glomerular filtration rate/1.73 sq M.predicted [Volume Rate/Area] in Serum or Plasma by Creatinine-based formula (MDRD)\": \"egfr\"\n",
        "}\n"
      ],
      "metadata": {
        "id": "iK5q8Ms3M3tH"
      },
      "execution_count": 16,
      "outputs": []
    },
    {
      "cell_type": "code",
      "source": [
        "# Filter\n",
        "obs_filtered = observations[observations[\"DESCRIPTION\"].isin(feature_map.keys())].copy()\n",
        "\n",
        "# Rename columns to a new \"feature\" column\n",
        "obs_filtered[\"feature\"] = obs_filtered[\"DESCRIPTION\"].map(feature_map)\n",
        "\n",
        "# Convert VALUE to numeric\n",
        "obs_filtered[\"VALUE\"] = pd.to_numeric(obs_filtered[\"VALUE\"], errors=\"coerce\")\n",
        "\n",
        "# Convert DATE to datetime\n",
        "obs_filtered[\"DATE\"] = pd.to_datetime(obs_filtered[\"DATE\"], errors=\"coerce\")\n",
        "\n",
        "# We'll take the LATEST value per patient-feature\n",
        "obs_filtered.sort_values(\"DATE\", inplace=True)\n",
        "latest_obs = obs_filtered.groupby([\"PATIENT\", \"feature\"], as_index=False).last()\n",
        "\n",
        "# Pivot to wide form: one row per patient, columns = features\n",
        "patient_features = latest_obs.pivot(index=\"PATIENT\", columns=\"feature\", values=\"VALUE\").reset_index()\n",
        "patient_features.rename(columns={\"PATIENT\": \"Id\"}, inplace=True)\n",
        "\n",
        "print(\"Patient features shape:\", patient_features.shape)\n",
        "print(patient_features.head())\n"
      ],
      "metadata": {
        "id": "4w9PCTVPM6g9",
        "colab": {
          "base_uri": "https://localhost:8080/"
        },
        "outputId": "1c5efbf9-9426-4f8e-e030-399e9c78d79e"
      },
      "execution_count": 17,
      "outputs": [
        {
          "output_type": "stream",
          "name": "stdout",
          "text": [
            "Patient features shape: (22818, 11)\n",
            "feature                                    Id   bmi  cholesterol  \\\n",
            "0        0000ce8b-d02f-56b8-92e7-e7a027f0b75c  24.5          NaN   \n",
            "1        0000f379-6d8a-044d-5922-a9635d745741  30.6        277.2   \n",
            "2        00012b04-c9a9-38b6-3880-299d710a71da  30.8        189.2   \n",
            "3        000144ed-006e-e7e7-6ae2-f02b5085be1b  23.7          NaN   \n",
            "4        00020de6-93ac-4937-b1a0-49c577074b5f  20.8          NaN   \n",
            "\n",
            "feature  diastolic_bp  egfr  glucose  hba1c  height    ldl  systolic_bp  \\\n",
            "0                82.7   NaN      NaN    NaN   181.6    NaN         81.2   \n",
            "1                59.0  10.7      NaN    5.6   170.3  199.2         96.0   \n",
            "2                63.0   NaN      NaN    NaN   171.6  106.4         83.0   \n",
            "3                74.0  11.2      NaN    NaN   148.8    NaN        111.0   \n",
            "4                83.0   NaN      NaN    NaN    89.9    NaN        130.0   \n",
            "\n",
            "feature  weight  \n",
            "0          80.7  \n",
            "1          88.8  \n",
            "2          90.7  \n",
            "3          52.5  \n",
            "4          16.8  \n"
          ]
        }
      ]
    },
    {
      "cell_type": "code",
      "source": [
        "final_df = pd.merge(patients, patient_features, on=\"Id\", how=\"left\")\n",
        "\n",
        "print(\"After merge:\", final_df.shape)\n",
        "print(final_df.head())\n",
        "\n",
        "# Example columns now:\n",
        "# [\"Id\", ..., \"diabetes_label\", \"glucose\", \"hba1c\", \"bmi\", \"ldl\", \"cholesterol\", ...]\n"
      ],
      "metadata": {
        "id": "fy1geTUdM8GV",
        "colab": {
          "base_uri": "https://localhost:8080/"
        },
        "outputId": "772ad748-0ed0-43f7-a4ef-2ddc9fe52e1c"
      },
      "execution_count": 18,
      "outputs": [
        {
          "output_type": "stream",
          "name": "stdout",
          "text": [
            "After merge: (22818, 39)\n",
            "                                     Id   BIRTHDATE   DEATHDATE          SSN  \\\n",
            "0  3677432a-971b-7ef0-acbb-43ce84a150cc  2020-01-01         NaN  999-60-9177   \n",
            "1  3e635a70-e4f8-0dab-0cea-e241e603d1c6  2008-10-13         NaN  999-76-7313   \n",
            "2  146b2833-24a9-8087-70b2-f73790020184  1981-08-08  2010-12-22  999-67-8888   \n",
            "3  7b00b9f8-8b8c-1338-4219-7c291cb09495  1996-04-24         NaN  999-64-6927   \n",
            "4  bbb163df-264a-71aa-e4d8-091553d95dd1  1982-05-04         NaN  999-79-2179   \n",
            "\n",
            "     DRIVERS    PASSPORT PREFIX       FIRST       MIDDLE        LAST  ...  \\\n",
            "0        NaN         NaN    NaN   Carlos172  Gregorio366  Estévez304  ...   \n",
            "1  S99990286         NaN    NaN    Cathi439      Sana377      Fay398  ...   \n",
            "2  S99969795  X68345241X    Mr.  Nickolas58       Jed345    Adams676  ...   \n",
            "3  S99911456  X46352131X    Mr.    Felipe97          NaN    Muñoz828  ...   \n",
            "4  S99950614  X75923971X   Mrs.     Ping698   Natasha268   Jacobi462  ...   \n",
            "\n",
            "    bmi cholesterol diastolic_bp   egfr glucose hba1c height    ldl  \\\n",
            "0  15.4         NaN         80.0    NaN     NaN   NaN  105.5    NaN   \n",
            "1  23.2         NaN         68.0    NaN     NaN   NaN  159.9    NaN   \n",
            "2  29.2       156.7         57.0  105.4    89.5   5.4  177.0   77.6   \n",
            "3  28.6         NaN         74.0    NaN     NaN   NaN  169.1    NaN   \n",
            "4  30.0       186.3         84.0    NaN     NaN   NaN  166.0  101.1   \n",
            "\n",
            "  systolic_bp weight  \n",
            "0       132.0   17.1  \n",
            "1       127.0   59.3  \n",
            "2       101.0   91.5  \n",
            "3       114.0   81.6  \n",
            "4       144.0   82.7  \n",
            "\n",
            "[5 rows x 39 columns]\n"
          ]
        }
      ]
    },
    {
      "cell_type": "code",
      "source": [
        "final_df[\"AGE\"] = pd.to_datetime(final_df[\"BIRTHDATE\"], errors=\"coerce\").apply(\n",
        "    lambda dob: datetime.now().year - dob.year if pd.notnull(dob) else np.nan\n",
        ")\n"
      ],
      "metadata": {
        "id": "rUuU9owlM-Pr"
      },
      "execution_count": 19,
      "outputs": []
    },
    {
      "cell_type": "code",
      "source": [
        "columns_to_keep = [\n",
        "    \"Id\", \"diabetes_label\", \"AGE\",\n",
        "    \"glucose\", \"hba1c\", \"bmi\", \"ldl\", \"cholesterol\",\n",
        "    \"systolic_bp\", \"diastolic_bp\", \"egfr\", \"weight\", \"height\"\n",
        "]\n",
        "final_df_cleaned = final_df[columns_to_keep]\n",
        "print(\"Final columns:\", final_df_cleaned.columns.tolist())\n",
        "print(final_df_cleaned.head())\n"
      ],
      "metadata": {
        "id": "ND2dVkkLM_vs",
        "colab": {
          "base_uri": "https://localhost:8080/"
        },
        "outputId": "dba00867-6c37-4e5f-c7c1-33a45156ca8b"
      },
      "execution_count": 20,
      "outputs": [
        {
          "output_type": "stream",
          "name": "stdout",
          "text": [
            "Final columns: ['Id', 'diabetes_label', 'AGE', 'glucose', 'hba1c', 'bmi', 'ldl', 'cholesterol', 'systolic_bp', 'diastolic_bp', 'egfr', 'weight', 'height']\n",
            "                                     Id  diabetes_label  AGE  glucose  hba1c  \\\n",
            "0  3677432a-971b-7ef0-acbb-43ce84a150cc               0    5      NaN    NaN   \n",
            "1  3e635a70-e4f8-0dab-0cea-e241e603d1c6               0   17      NaN    NaN   \n",
            "2  146b2833-24a9-8087-70b2-f73790020184               0   44     89.5    5.4   \n",
            "3  7b00b9f8-8b8c-1338-4219-7c291cb09495               0   29      NaN    NaN   \n",
            "4  bbb163df-264a-71aa-e4d8-091553d95dd1               0   43      NaN    NaN   \n",
            "\n",
            "    bmi    ldl  cholesterol  systolic_bp  diastolic_bp   egfr  weight  height  \n",
            "0  15.4    NaN          NaN        132.0          80.0    NaN    17.1   105.5  \n",
            "1  23.2    NaN          NaN        127.0          68.0    NaN    59.3   159.9  \n",
            "2  29.2   77.6        156.7        101.0          57.0  105.4    91.5   177.0  \n",
            "3  28.6    NaN          NaN        114.0          74.0    NaN    81.6   169.1  \n",
            "4  30.0  101.1        186.3        144.0          84.0    NaN    82.7   166.0  \n"
          ]
        }
      ]
    },
    {
      "cell_type": "code",
      "source": [
        "# We'll fill numeric columns with mean\n",
        "lab_cols = [\n",
        "    \"glucose\", \"hba1c\", \"bmi\", \"ldl\", \"cholesterol\",\n",
        "    \"systolic_bp\", \"diastolic_bp\", \"egfr\", \"weight\", \"height\"\n",
        "]\n",
        "final_df_cleaned[lab_cols] = final_df_cleaned[lab_cols].fillna(final_df_cleaned[lab_cols].mean())\n"
      ],
      "metadata": {
        "id": "YhyIqccLNBRt",
        "colab": {
          "base_uri": "https://localhost:8080/"
        },
        "outputId": "d576c635-84b8-4351-960f-00061c66807f"
      },
      "execution_count": 21,
      "outputs": [
        {
          "output_type": "stream",
          "name": "stderr",
          "text": [
            "<ipython-input-21-b9e3b0a81082>:6: SettingWithCopyWarning: \n",
            "A value is trying to be set on a copy of a slice from a DataFrame.\n",
            "Try using .loc[row_indexer,col_indexer] = value instead\n",
            "\n",
            "See the caveats in the documentation: https://pandas.pydata.org/pandas-docs/stable/user_guide/indexing.html#returning-a-view-versus-a-copy\n",
            "  final_df_cleaned[lab_cols] = final_df_cleaned[lab_cols].fillna(final_df_cleaned[lab_cols].mean())\n"
          ]
        }
      ]
    },
    {
      "cell_type": "code",
      "source": [
        "X = final_df_cleaned[lab_cols]\n",
        "y = final_df_cleaned[\"diabetes_label\"]\n",
        "\n",
        "from sklearn.model_selection import train_test_split\n",
        "X_train, X_test, y_train, y_test = train_test_split(\n",
        "    X, y, test_size=0.2, stratify=y, random_state=42\n",
        ")\n",
        "\n",
        "model = RandomForestClassifier(\n",
        "    n_estimators=100,\n",
        "    class_weight=\"balanced_subsample\",  # helps handle imbalance\n",
        "    random_state=42\n",
        ")\n",
        "model.fit(X_train, y_train)\n",
        "\n",
        "y_pred = model.predict(X_test)\n",
        "\n",
        "from sklearn.metrics import classification_report\n",
        "print(classification_report(y_test, y_pred))\n"
      ],
      "metadata": {
        "id": "35pFFma7NINz",
        "colab": {
          "base_uri": "https://localhost:8080/"
        },
        "outputId": "657ffd38-aeae-4ded-f8f6-8f04c5d613a2"
      },
      "execution_count": 22,
      "outputs": [
        {
          "output_type": "stream",
          "name": "stdout",
          "text": [
            "              precision    recall  f1-score   support\n",
            "\n",
            "           0       0.98      1.00      0.99      4277\n",
            "           1       0.96      0.75      0.84       287\n",
            "\n",
            "    accuracy                           0.98      4564\n",
            "   macro avg       0.97      0.87      0.91      4564\n",
            "weighted avg       0.98      0.98      0.98      4564\n",
            "\n"
          ]
        }
      ]
    }
  ]
}